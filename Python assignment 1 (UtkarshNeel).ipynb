{
 "cells": [
  {
   "cell_type": "markdown",
   "metadata": {},
   "source": [
    "Q1 What is the output of following expression  5 + 4 * 9 % (3 + 1) / 6 - 1"
   ]
  },
  {
   "cell_type": "code",
   "execution_count": 2,
   "metadata": {},
   "outputs": [
    {
     "name": "stdout",
     "output_type": "stream",
     "text": [
      "4.0\n"
     ]
    }
   ],
   "source": [
    "result = 5 + 4 * 9 % (3 + 1) / 6 - 1\n",
    "print(result)"
   ]
  },
  {
   "cell_type": "markdown",
   "metadata": {},
   "source": [
    "Q2: Write a program to check if a Number is Odd or Even. Take number as a input from user at runtime."
   ]
  },
  {
   "cell_type": "code",
   "execution_count": 1,
   "metadata": {},
   "outputs": [
    {
     "name": "stdout",
     "output_type": "stream",
     "text": [
      "1 is odd.\n"
     ]
    }
   ],
   "source": [
    "num = int(input(\"Enter a number: \"))\n",
    "\n",
    "if num % 2 == 0:\n",
    "    print(num, \"is even.\")\n",
    "else:\n",
    "    print(num, \"is odd.\")"
   ]
  },
  {
   "cell_type": "markdown",
   "metadata": {},
   "source": [
    "Q3: Write a program to display the multiplication table by taking a number as input. [Hint : Use print\n",
    "statement inside of a loop]"
   ]
  },
  {
   "cell_type": "code",
   "execution_count": 3,
   "metadata": {},
   "outputs": [
    {
     "name": "stdout",
     "output_type": "stream",
     "text": [
      "Multiplication table of 5\n",
      "5 x 1 = 5\n",
      "5 x 2 = 10\n",
      "5 x 3 = 15\n",
      "5 x 4 = 20\n",
      "5 x 5 = 25\n",
      "5 x 6 = 30\n",
      "5 x 7 = 35\n",
      "5 x 8 = 40\n",
      "5 x 9 = 45\n",
      "5 x 10 = 50\n"
     ]
    }
   ],
   "source": [
    "x = int(input(\"Enter a number: \"))\n",
    "print(\"Multiplication table of\", x)\n",
    "for i in range(1, 11):\n",
    "    print(x, \"x\", i, \"=\", x * i)"
   ]
  },
  {
   "cell_type": "markdown",
   "metadata": {},
   "source": [
    "Q4: Write a program which will find all numbers between 2000 and 3200 which are divisible by 7 but\n",
    "are not a multiple of 5. Note: The numbers obtained should be printed in a comma-separated sequence\n",
    "on a single line.\n"
   ]
  },
  {
   "cell_type": "code",
   "execution_count": 4,
   "metadata": {},
   "outputs": [
    {
     "name": "stdout",
     "output_type": "stream",
     "text": [
      "21, 28\n"
     ]
    }
   ],
   "source": [
    "a = []\n",
    "for num in range(20, 30):\n",
    "    if num % 7 == 0 and num % 5 != 0:\n",
    "        a.append(num)\n",
    "print(\", \".join(map(str, a)))"
   ]
  },
  {
   "cell_type": "markdown",
   "metadata": {},
   "source": [
    "Q5: Count the elements of each datatype inside the list and display in output [2, 3, 'Py', '10', 1, 'SQL', 5.5,\n",
    "True, 3, 'John', None, 7]"
   ]
  },
  {
   "cell_type": "code",
   "execution_count": 7,
   "metadata": {},
   "outputs": [
    {
     "name": "stdout",
     "output_type": "stream",
     "text": [
      "Integer count: 6\n",
      "Float count: 1\n",
      "String count: 4\n",
      "Boolean count: 0\n",
      "None count: 0\n"
     ]
    }
   ],
   "source": [
    "data = [2, 3, 'Py', '10', 1, 'SQL', 5.5, True, 3, 'John', None, 7]\n",
    "\n",
    "int_count = 0\n",
    "float_count = 0\n",
    "str_count = 0\n",
    "bool_count = 0\n",
    "none_count = 0\n",
    "\n",
    "for element in data:\n",
    "    if isinstance(element, int):\n",
    "        int_count += 1\n",
    "    elif isinstance(element, float):\n",
    "        float_count += 1\n",
    "    elif isinstance(element, str):\n",
    "        str_count += 1\n",
    "    elif isinstance(element, bool):\n",
    "        bool_count += 1\n",
    "    elif element is None:\n",
    "        none_count \n",
    "print(\"Integer count:\", int_count)\n",
    "print(\"Float count:\", float_count)\n",
    "print(\"String count:\", str_count)\n",
    "print(\"Boolean count:\", bool_count)\n",
    "print(\"None count:\", none_count)"
   ]
  },
  {
   "cell_type": "markdown",
   "metadata": {},
   "source": [
    "Q6: Add all values from the list with numeric datatypes [2, 3, 'Py', '10', 1, 'SQL', 5.5, True, 3, 'John', None,\n",
    "7]"
   ]
  },
  {
   "cell_type": "code",
   "execution_count": 8,
   "metadata": {},
   "outputs": [
    {
     "name": "stdout",
     "output_type": "stream",
     "text": [
      "Sum of numeric values: 22.5\n"
     ]
    }
   ],
   "source": [
    "data = [2, 3, 'Py', '10', 1, 'SQL', 5.5, True, 3, 'John', None, 7]\n",
    "\n",
    "sum = 0\n",
    "for element in data:\n",
    "    if isinstance(element, (int, float)):\n",
    "        sum += element\n",
    "\n",
    "print(\"Sum of numeric values:\", sum)"
   ]
  },
  {
   "cell_type": "markdown",
   "metadata": {},
   "source": [
    "Q7: Concat all str datatypes with hyphen as a delimiter [2, 3, 'Py', '10', 1, 'SQL', 5.5, True, 3, 'John', None,\n",
    "7]"
   ]
  },
  {
   "cell_type": "code",
   "execution_count": 10,
   "metadata": {},
   "outputs": [
    {
     "name": "stdout",
     "output_type": "stream",
     "text": [
      "Concatenated strings: Py-10-SQL-John\n"
     ]
    }
   ],
   "source": [
    "data = [2, 3, 'Py', '10', 1, 'SQL', 5.5, True, 3, 'John', None, 7]\n",
    "\n",
    "str_concat = \"-\".join(str(x) for x in data if isinstance(x, str))\n",
    "print(\"Concatenated strings:\", str_concat)"
   ]
  },
  {
   "cell_type": "markdown",
   "metadata": {},
   "source": [
    "Q8 Get only odd numbers from the following list and store the numbers in new list li = [5, 7, 22, 97, 54,\n",
    "62, 77, 23, 73, 61] i. Use loops to get the answer ii. Use list comprehensions iii. Use lambda function\n",
    "with filter."
   ]
  },
  {
   "cell_type": "code",
   "execution_count": 11,
   "metadata": {},
   "outputs": [
    {
     "name": "stdout",
     "output_type": "stream",
     "text": [
      "[5, 7, 97, 77, 23, 73, 61]\n"
     ]
    }
   ],
   "source": [
    "li = [5, 7, 22, 97, 54, 62, 77, 23, 73, 61]\n",
    "odd_numbers = []\n",
    "\n",
    "for num in li:\n",
    "    if num % 2 != 0:\n",
    "        odd_numbers.append(num)\n",
    "\n",
    "print(odd_numbers)"
   ]
  },
  {
   "cell_type": "markdown",
   "metadata": {},
   "source": [
    "Q9: Write an udf to calculate the area of different shapes Take shape and dimensions as arguments to\n",
    "udf as follows : 1. square which has side 2. rectangle which has length and width 3. circle which has\n",
    "radius The shape should be a positional argument and it's dimensions are taken as kwargs Perform\n",
    "proper validation for the user inputs and then calculate area. E.g. if shape is square, ensure kwargs has\n",
    "\"side\" and if so, then you may return the area, else display appropriate error message like \"Please enter\n",
    "'side' for a square\"\n"
   ]
  },
  {
   "cell_type": "code",
   "execution_count": 14,
   "metadata": {},
   "outputs": [
    {
     "name": "stdout",
     "output_type": "stream",
     "text": [
      "Area of square: 25\n",
      "Area of rectangle: 50\n",
      "Area of circle: 28.274333882308138\n",
      "Error: Unsupported shape: triangle\n"
     ]
    }
   ],
   "source": [
    "import math\n",
    "\n",
    "def calculate_area(shape, **kwargs):\n",
    "    if shape == \"square\":\n",
    "        if \"side\" not in kwargs:\n",
    "            raise ValueError(\"Please enter 'side' for a square.\")\n",
    "        side = kwargs[\"side\"]\n",
    "        return side ** 2\n",
    "    elif shape == \"rectangle\":\n",
    "        if \"length\" not in kwargs or \"width\" not in kwargs:\n",
    "            raise ValueError(\"Please enter 'length' and 'width' for a rectangle.\")\n",
    "        length = kwargs[\"length\"]\n",
    "        width = kwargs[\"width\"]\n",
    "        return length * width\n",
    "    elif shape == \"circle\":\n",
    "        if \"radius\" not in kwargs:\n",
    "            raise ValueError(\"Please enter 'radius' for a circle.\")\n",
    "        radius = kwargs[\"radius\"]\n",
    "        return math.pi * radius ** 2\n",
    "    else:\n",
    "        raise ValueError(\"Unsupported shape: \" + shape)\n",
    "\n",
    "try:\n",
    "    square_area = calculate_area(\"square\", side=5)\n",
    "    print(\"Area of square:\", square_area)\n",
    "\n",
    "    rectangle_area = calculate_area(\"rectangle\", length=10, width=5)\n",
    "    print(\"Area of rectangle:\", rectangle_area)\n",
    "\n",
    "    circle_area = calculate_area(\"circle\", radius=3)\n",
    "    print(\"Area of circle:\", circle_area)\n",
    "\n",
    "    invalid_area = calculate_area(\"triangle\", base=3, height=8)\n",
    "except ValueError as e:\n",
    "    print(\"Error:\", str(e))"
   ]
  },
  {
   "cell_type": "markdown",
   "metadata": {},
   "source": [
    "Q10: write a UDF to check if a number is prime or not."
   ]
  },
  {
   "cell_type": "code",
   "execution_count": 15,
   "metadata": {},
   "outputs": [
    {
     "name": "stdout",
     "output_type": "stream",
     "text": [
      "17 is a prime number.\n"
     ]
    }
   ],
   "source": [
    "def is_prime(num):\n",
    "  if num <= 1:\n",
    "    return False\n",
    "  if num <= 3:\n",
    "    return True\n",
    "  if num % 2 == 0 or num % 3 == 0:\n",
    "    return False\n",
    "\n",
    "  i = 5\n",
    "  while i * i <= num:\n",
    "    if num % i == 0 or num % (i + 2) == 0:\n",
    "      return False\n",
    "    i += 6\n",
    "\n",
    "  return True\n",
    "\n",
    "num = 17\n",
    "if is_prime(num):\n",
    "  print(num, \"is a prime number.\")\n",
    "else:\n",
    "  print(num, \"is not a prime number.\")"
   ]
  },
  {
   "cell_type": "markdown",
   "metadata": {},
   "source": [
    "Q11. Write a program that takes a string and returns reversed string. i.e. if input is \"abcd123\" output\n",
    "should be \"321dcba\""
   ]
  },
  {
   "cell_type": "code",
   "execution_count": 16,
   "metadata": {},
   "outputs": [
    {
     "name": "stdout",
     "output_type": "stream",
     "text": [
      "321dcba\n"
     ]
    }
   ],
   "source": [
    "def reverse_string(string):\n",
    "  reversed_string = \"\"\n",
    "  for char in string:\n",
    "    reversed_string = char + reversed_string\n",
    "  return reversed_string\n",
    "\n",
    "string = \"abcd123\"\n",
    "reversed_string = reverse_string(string)\n",
    "print(reversed_string)"
   ]
  }
 ],
 "metadata": {
  "kernelspec": {
   "display_name": "Python 3",
   "language": "python",
   "name": "python3"
  },
  "language_info": {
   "codemirror_mode": {
    "name": "ipython",
    "version": 3
   },
   "file_extension": ".py",
   "mimetype": "text/x-python",
   "name": "python",
   "nbconvert_exporter": "python",
   "pygments_lexer": "ipython3",
   "version": "3.12.4"
  }
 },
 "nbformat": 4,
 "nbformat_minor": 2
}
